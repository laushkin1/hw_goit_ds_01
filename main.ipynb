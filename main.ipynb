{
  "nbformat": 4,
  "nbformat_minor": 0,
  "metadata": {
    "colab": {
      "provenance": []
    },
    "kernelspec": {
      "name": "python3",
      "display_name": "Python 3"
    },
    "language_info": {
      "name": "python"
    }
  },
  "cells": [
    {
      "cell_type": "code",
      "execution_count": 2,
      "metadata": {
        "id": "lZlnz_2-Ujxn"
      },
      "outputs": [],
      "source": [
        "import numpy as np"
      ]
    },
    {
      "cell_type": "markdown",
      "source": [
        "1"
      ],
      "metadata": {
        "id": "wmdSH6CUU7ho"
      }
    },
    {
      "cell_type": "code",
      "source": [
        "vector = np.arange(1, 11)\n",
        "print(vector)"
      ],
      "metadata": {
        "colab": {
          "base_uri": "https://localhost:8080/"
        },
        "id": "66NNFDrNU1v6",
        "outputId": "daf95b61-0e35-47c7-d805-abe1c63a1b8c"
      },
      "execution_count": 3,
      "outputs": [
        {
          "output_type": "stream",
          "name": "stdout",
          "text": [
            "[ 1  2  3  4  5  6  7  8  9 10]\n"
          ]
        }
      ]
    },
    {
      "cell_type": "markdown",
      "source": [
        "2"
      ],
      "metadata": {
        "id": "HqDe5UJemZKY"
      }
    },
    {
      "cell_type": "code",
      "source": [
        "matrix = np.zeros((3, 3), dtype=int)\n",
        "print(matrix)"
      ],
      "metadata": {
        "colab": {
          "base_uri": "https://localhost:8080/"
        },
        "id": "YJBzCFX_maW-",
        "outputId": "f7a99e24-98cf-4adf-e4e4-89014bc3e847"
      },
      "execution_count": 4,
      "outputs": [
        {
          "output_type": "stream",
          "name": "stdout",
          "text": [
            "[[0 0 0]\n",
            " [0 0 0]\n",
            " [0 0 0]]\n"
          ]
        }
      ]
    },
    {
      "cell_type": "markdown",
      "source": [
        "3"
      ],
      "metadata": {
        "id": "yrtFL0GbmbB6"
      }
    },
    {
      "cell_type": "code",
      "source": [
        "random_big_matrix = np.random.randint(1, 11, size=(5, 5))\n",
        "print(random_big_matrix)"
      ],
      "metadata": {
        "colab": {
          "base_uri": "https://localhost:8080/"
        },
        "id": "LFa859d7mb3e",
        "outputId": "b9350365-3bc9-418c-b85c-4fdcd97a6ce0"
      },
      "execution_count": 5,
      "outputs": [
        {
          "output_type": "stream",
          "name": "stdout",
          "text": [
            "[[ 9  8 10  4  6]\n",
            " [ 2  5  6  5  1]\n",
            " [ 9  2  3  4 10]\n",
            " [10  7  6 10  6]\n",
            " [ 7  6  4  6  6]]\n"
          ]
        }
      ]
    },
    {
      "cell_type": "markdown",
      "source": [
        "4"
      ],
      "metadata": {
        "id": "X9eEsGZMmd6f"
      }
    },
    {
      "cell_type": "code",
      "source": [
        "random_matrix = np.random.rand(4, 4)\n",
        "print(random_matrix)"
      ],
      "metadata": {
        "colab": {
          "base_uri": "https://localhost:8080/"
        },
        "id": "jdnJj_NHmeve",
        "outputId": "0dd30be2-db4c-4063-ebd8-5dd7803dd5b9"
      },
      "execution_count": 6,
      "outputs": [
        {
          "output_type": "stream",
          "name": "stdout",
          "text": [
            "[[0.50391709 0.88046973 0.13382104 0.37858877]\n",
            " [0.63218225 0.37581238 0.06345152 0.09980642]\n",
            " [0.98008964 0.18215185 0.71835034 0.18004227]\n",
            " [0.1547302  0.87805631 0.7283859  0.92442688]]\n"
          ]
        }
      ]
    },
    {
      "cell_type": "markdown",
      "source": [
        "5"
      ],
      "metadata": {
        "id": "guu8VKRUmgt-"
      }
    },
    {
      "cell_type": "code",
      "source": [
        "first_random_vector = np.random.randint(1, 11, size=(5))\n",
        "second_random_vector = np.random.randint(1, 11, size=(5))\n",
        "print(first_random_vector)\n",
        "print(second_random_vector)\n",
        "print(first_random_vector+second_random_vector)\n",
        "print(first_random_vector-second_random_vector)\n",
        "print(first_random_vector*second_random_vector)"
      ],
      "metadata": {
        "colab": {
          "base_uri": "https://localhost:8080/"
        },
        "id": "7fsqQ5L0mhgK",
        "outputId": "39249975-46b8-4d41-baa5-0d909d8d1494"
      },
      "execution_count": 7,
      "outputs": [
        {
          "output_type": "stream",
          "name": "stdout",
          "text": [
            "[ 9  8 10  7  6]\n",
            "[10  8  7  9  9]\n",
            "[19 16 17 16 15]\n",
            "[-1  0  3 -2 -3]\n",
            "[90 64 70 63 54]\n"
          ]
        }
      ]
    },
    {
      "cell_type": "markdown",
      "source": [
        "6"
      ],
      "metadata": {
        "id": "7B0xInbUmjke"
      }
    },
    {
      "cell_type": "code",
      "source": [
        "first_sevenSize_vector = np.array([4, 3, 2, 6, 5, 8, 4], dtype=int)\n",
        "second_sevenSize_vector = np.array([6, 5, 9, 2, 4, 1, 10], dtype=int)\n",
        "print(np.dot(first_sevenSize_vector, second_sevenSize_vector))"
      ],
      "metadata": {
        "colab": {
          "base_uri": "https://localhost:8080/"
        },
        "id": "CGSubJ0lmkIY",
        "outputId": "70ec975c-1e2e-455a-b2e9-cc6f0585a926"
      },
      "execution_count": 8,
      "outputs": [
        {
          "output_type": "stream",
          "name": "stdout",
          "text": [
            "137\n"
          ]
        }
      ]
    },
    {
      "cell_type": "markdown",
      "source": [
        "7"
      ],
      "metadata": {
        "id": "rtyQbmR4mngw"
      }
    },
    {
      "cell_type": "code",
      "source": [
        "first_random_matrix = np.random.randint(1, 11, size=(2, 2))\n",
        "second_random_matrix = np.random.randint(1, 11, size=(2, 3))\n",
        "print(first_random_matrix)\n",
        "print(second_random_matrix)\n",
        "print(np.dot(first_random_matrix, second_random_matrix))"
      ],
      "metadata": {
        "colab": {
          "base_uri": "https://localhost:8080/"
        },
        "id": "-WOharHhmoAa",
        "outputId": "64c6f7a8-7deb-4a60-c382-b8c1d0a0caff"
      },
      "execution_count": 9,
      "outputs": [
        {
          "output_type": "stream",
          "name": "stdout",
          "text": [
            "[[ 9  6]\n",
            " [ 3 10]]\n",
            "[[ 5 10  5]\n",
            " [ 3  2  2]]\n",
            "[[ 63 102  57]\n",
            " [ 45  50  35]]\n"
          ]
        }
      ]
    },
    {
      "cell_type": "markdown",
      "source": [
        "8"
      ],
      "metadata": {
        "id": "daeW2WTqmprq"
      }
    },
    {
      "cell_type": "code",
      "source": [
        "matrix = np.random.randint(1, 11, size=(3, 3))\n",
        "print(matrix)\n",
        "print(np.linalg.inv(matrix))"
      ],
      "metadata": {
        "colab": {
          "base_uri": "https://localhost:8080/"
        },
        "id": "ffRpJDznmqWr",
        "outputId": "5433aa20-27d8-4a8c-ed23-f64fe2c08eca"
      },
      "execution_count": 10,
      "outputs": [
        {
          "output_type": "stream",
          "name": "stdout",
          "text": [
            "[[ 6 10  6]\n",
            " [ 9  2  7]\n",
            " [10  1  4]]\n",
            "[[ 0.00357143 -0.12142857  0.20714286]\n",
            " [ 0.12142857 -0.12857143  0.04285714]\n",
            " [-0.03928571  0.33571429 -0.27857143]]\n"
          ]
        }
      ]
    },
    {
      "cell_type": "markdown",
      "source": [
        "9"
      ],
      "metadata": {
        "id": "Cyp-NITemsJv"
      }
    },
    {
      "cell_type": "code",
      "source": [
        "matrixT = np.random.rand(4, 4)\n",
        "print(matrixT)\n",
        "print(matrixT.T)"
      ],
      "metadata": {
        "colab": {
          "base_uri": "https://localhost:8080/"
        },
        "id": "APxwvv3sms5x",
        "outputId": "9cf5ac3b-9f88-4339-a909-0a07b9f3c41f"
      },
      "execution_count": 11,
      "outputs": [
        {
          "output_type": "stream",
          "name": "stdout",
          "text": [
            "[[0.04183872 0.31261479 0.28270704 0.39254933]\n",
            " [0.19235814 0.32960665 0.49111207 0.63767101]\n",
            " [0.61133263 0.77776648 0.86890131 0.84574955]\n",
            " [0.17869204 0.67586626 0.84256464 0.27715269]]\n",
            "[[0.04183872 0.19235814 0.61133263 0.17869204]\n",
            " [0.31261479 0.32960665 0.77776648 0.67586626]\n",
            " [0.28270704 0.49111207 0.86890131 0.84256464]\n",
            " [0.39254933 0.63767101 0.84574955 0.27715269]]\n"
          ]
        }
      ]
    },
    {
      "cell_type": "markdown",
      "source": [
        "10"
      ],
      "metadata": {
        "id": "6zhL-X99muzs"
      }
    },
    {
      "cell_type": "code",
      "source": [
        "matrix_3x4 = np.random.randint(1, 11, size=(3, 4))\n",
        "vector_4 = np.random.randint(1, 11, size=4)\n",
        "print(matrix_3x4)\n",
        "print(vector_4)\n",
        "print(np.dot(matrix_3x4, vector_4))"
      ],
      "metadata": {
        "colab": {
          "base_uri": "https://localhost:8080/"
        },
        "id": "WkPLcC_Mmvan",
        "outputId": "2862a76c-8c7e-40ae-ccaa-29800f89f46c"
      },
      "execution_count": 12,
      "outputs": [
        {
          "output_type": "stream",
          "name": "stdout",
          "text": [
            "[[ 7  1  8 10]\n",
            " [ 4  5  6  9]\n",
            " [ 5  6  7  3]]\n",
            "[10  2  9  9]\n",
            "[234 185 152]\n"
          ]
        }
      ]
    },
    {
      "cell_type": "markdown",
      "source": [
        "11"
      ],
      "metadata": {
        "id": "jnrYNuSmmxDO"
      }
    },
    {
      "cell_type": "code",
      "source": [
        "matrix_2x3 = np.random.rand(2, 3)\n",
        "vector_3 = np.random.rand(3)\n",
        "print(matrix_2x3)\n",
        "print(vector_3)\n",
        "print(np.dot(matrix_2x3, vector_3))"
      ],
      "metadata": {
        "colab": {
          "base_uri": "https://localhost:8080/"
        },
        "id": "MlcEdjQSmxeh",
        "outputId": "8538be7c-1719-4d93-82b2-f4742cc4a53c"
      },
      "execution_count": 13,
      "outputs": [
        {
          "output_type": "stream",
          "name": "stdout",
          "text": [
            "[[0.07121468 0.34131588 0.14082286]\n",
            " [0.9826964  0.27544588 0.82298242]]\n",
            "[0.88147172 0.67360997 0.57010532]\n",
            "[0.37297136 1.52094883]\n"
          ]
        }
      ]
    },
    {
      "cell_type": "markdown",
      "source": [
        "12"
      ],
      "metadata": {
        "id": "zzHFd4dgmzX6"
      }
    },
    {
      "cell_type": "code",
      "source": [
        "first_matrix_2x2 = np.random.randint(1, 11, size=(2, 2))\n",
        "second_matrix_2x2 = np.random.randint(1, 11, size=(2, 2))\n",
        "print(first_matrix_2x2)\n",
        "print(second_matrix_2x2)\n",
        "print(first_matrix_2x2 * second_matrix_2x2)"
      ],
      "metadata": {
        "colab": {
          "base_uri": "https://localhost:8080/"
        },
        "id": "5DG6aqYWmzxR",
        "outputId": "f0a1368d-4654-4b1f-8640-65a890aa866f"
      },
      "execution_count": 14,
      "outputs": [
        {
          "output_type": "stream",
          "name": "stdout",
          "text": [
            "[[6 4]\n",
            " [2 7]]\n",
            "[[ 6 10]\n",
            " [ 6  8]]\n",
            "[[36 40]\n",
            " [12 56]]\n"
          ]
        }
      ]
    },
    {
      "cell_type": "markdown",
      "source": [
        "13"
      ],
      "metadata": {
        "id": "WQt8XPi6m1yu"
      }
    },
    {
      "cell_type": "code",
      "source": [
        "first_matrix_2x2 = np.random.randint(1, 11, size=(2, 2))\n",
        "second_matrix_2x2 = np.random.randint(1, 11, size=(2, 2))\n",
        "print(first_matrix_2x2)\n",
        "print(second_matrix_2x2)\n",
        "print(np.dot(first_matrix_2x2, second_matrix_2x2))"
      ],
      "metadata": {
        "colab": {
          "base_uri": "https://localhost:8080/"
        },
        "id": "S_MJZ12nm2cS",
        "outputId": "9b4d5234-938a-4562-fb14-4418e225f86a"
      },
      "execution_count": 15,
      "outputs": [
        {
          "output_type": "stream",
          "name": "stdout",
          "text": [
            "[[ 9 10]\n",
            " [10  1]]\n",
            "[[ 5 10]\n",
            " [ 7  9]]\n",
            "[[115 180]\n",
            " [ 57 109]]\n"
          ]
        }
      ]
    },
    {
      "cell_type": "markdown",
      "source": [
        "14"
      ],
      "metadata": {
        "id": "DEMdmqkem4Lc"
      }
    },
    {
      "cell_type": "code",
      "source": [
        "matrix_5x5 = np.random.randint(1, 101, size=(5, 5))\n",
        "print(matrix_5x5)\n",
        "print(matrix_5x5.sum())"
      ],
      "metadata": {
        "colab": {
          "base_uri": "https://localhost:8080/"
        },
        "id": "Fq5Vmlxrm41H",
        "outputId": "a815fd01-3883-43cb-dfed-8021f3ca59ee"
      },
      "execution_count": 16,
      "outputs": [
        {
          "output_type": "stream",
          "name": "stdout",
          "text": [
            "[[96 70 62 46  1]\n",
            " [93 39 53 46 55]\n",
            " [53 13 58 86 13]\n",
            " [35 60 71  4 81]\n",
            " [92 45 34 30 82]]\n",
            "1318\n"
          ]
        }
      ]
    },
    {
      "cell_type": "markdown",
      "source": [
        "15"
      ],
      "metadata": {
        "id": "ym1t_fRUm6zv"
      }
    },
    {
      "cell_type": "code",
      "source": [
        "first_matrix_4x4 = np.random.randint(1, 11, size=(4, 4))\n",
        "second_matrix_4x4 = np.random.randint(1, 11, size=(4, 4))\n",
        "print(first_matrix_4x4)\n",
        "print(second_matrix_4x4)\n",
        "print(first_matrix_4x4 - second_matrix_4x4)"
      ],
      "metadata": {
        "colab": {
          "base_uri": "https://localhost:8080/"
        },
        "id": "TLTTZbaMm7Tn",
        "outputId": "45758df0-a1e7-4474-ea45-ef588087f501"
      },
      "execution_count": 17,
      "outputs": [
        {
          "output_type": "stream",
          "name": "stdout",
          "text": [
            "[[10  3  7  4]\n",
            " [ 9  8  4  5]\n",
            " [ 9  3  2  2]\n",
            " [ 1  2 10  7]]\n",
            "[[10  3  6  1]\n",
            " [ 6  1  2  7]\n",
            " [ 1  8  2  3]\n",
            " [ 8  5  3  8]]\n",
            "[[ 0  0  1  3]\n",
            " [ 3  7  2 -2]\n",
            " [ 8 -5  0 -1]\n",
            " [-7 -3  7 -1]]\n"
          ]
        }
      ]
    },
    {
      "cell_type": "markdown",
      "source": [
        "16"
      ],
      "metadata": {
        "id": "N15H-TAhm-tk"
      }
    },
    {
      "cell_type": "code",
      "source": [
        "matrix_3x3 = np.random.rand(3, 3)\n",
        "print(matrix_3x3)\n",
        "print((np.sum(matrix_3x3, axis=1)).reshape(-1, 1))"
      ],
      "metadata": {
        "colab": {
          "base_uri": "https://localhost:8080/"
        },
        "id": "FwfSA6GJm_bJ",
        "outputId": "9f4711d4-bb1c-41fb-a35c-16664442a190"
      },
      "execution_count": 18,
      "outputs": [
        {
          "output_type": "stream",
          "name": "stdout",
          "text": [
            "[[0.00202759 0.28118458 0.50444302]\n",
            " [0.13207187 0.79734871 0.04470926]\n",
            " [0.43135954 0.79284628 0.09653151]]\n",
            "[[0.7876552 ]\n",
            " [0.97412985]\n",
            " [1.32073733]]\n"
          ]
        }
      ]
    },
    {
      "cell_type": "markdown",
      "source": [
        "17"
      ],
      "metadata": {
        "id": "7B4bIY7YnBgK"
      }
    },
    {
      "cell_type": "code",
      "source": [
        "matrix_3x4 = np.random.randint(1, 11, size=(3, 4))\n",
        "print(matrix_3x4)\n",
        "print(matrix_3x4 ** 2)"
      ],
      "metadata": {
        "colab": {
          "base_uri": "https://localhost:8080/"
        },
        "id": "ttqTfgS-nCIG",
        "outputId": "38405657-59ab-48a5-f06e-8ba29d312307"
      },
      "execution_count": 19,
      "outputs": [
        {
          "output_type": "stream",
          "name": "stdout",
          "text": [
            "[[ 2  8 10  6]\n",
            " [ 4  8  7  2]\n",
            " [ 7  5 10 10]]\n",
            "[[  4  64 100  36]\n",
            " [ 16  64  49   4]\n",
            " [ 49  25 100 100]]\n"
          ]
        }
      ]
    },
    {
      "cell_type": "markdown",
      "source": [
        "18"
      ],
      "metadata": {
        "id": "nxd1FRYInCqy"
      }
    },
    {
      "cell_type": "code",
      "source": [
        "vector_4 = np.random.randint(1, 51, size=(4))\n",
        "print(vector_4)\n",
        "print(np.sqrt(vector_4))"
      ],
      "metadata": {
        "colab": {
          "base_uri": "https://localhost:8080/"
        },
        "id": "zIhcFbtSnDdG",
        "outputId": "0e2ef744-79f7-4d1a-a9a5-357610c3e87a"
      },
      "execution_count": 20,
      "outputs": [
        {
          "output_type": "stream",
          "name": "stdout",
          "text": [
            "[ 9  3 41 27]\n",
            "[3.         1.73205081 6.40312424 5.19615242]\n"
          ]
        }
      ]
    }
  ]
}